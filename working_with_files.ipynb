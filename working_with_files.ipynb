{
  "nbformat": 4,
  "nbformat_minor": 0,
  "metadata": {
    "colab": {
      "name": "working with files",
      "provenance": [],
      "authorship_tag": "ABX9TyM6as/WgF+XgkE1dMIkq0Sf"
    },
    "kernelspec": {
      "name": "python3",
      "display_name": "Python 3"
    },
    "language_info": {
      "name": "python"
    }
  },
  "cells": [
    {
      "cell_type": "code",
      "metadata": {
        "id": "xZEz8BBGaKDV"
      },
      "source": [
        " sea = open(\"fishes.txt\", 'r')   \n",
        "\n",
        "print(sea.read(33))  # displays the first 33 chars of the text\n",
        "print()\n",
        "print(sea.read(25))  # displays the next 25 chars of the text\n",
        "print()\n",
        "sea.seek(0)  # changes the stream (cursor) position to zero\n",
        "print(sea.read(33))  # displays the first 33 chars again\n",
        "print()\n",
        "print(sea.tell())  # returns the current stream (cursor) position\n",
        "\n",
        "sea.close()\n"
      ],
      "execution_count": null,
      "outputs": []
    },
    {
      "cell_type": "code",
      "metadata": {
        "id": "-Zwm7-ffaSZs"
      },
      "source": [
        "Orca is a kind of Dolphin.\n",
        "Blue W\n",
        "\n",
        "hale is the largest anima\n",
        "\n",
        "Orca is a kind of Dolphin.\n",
        "Blue W\n",
        "\n",
        "34"
      ],
      "execution_count": null,
      "outputs": []
    },
    {
      "cell_type": "code",
      "metadata": {
        "id": "Z83IkMlbaUgE"
      },
      "source": [
        "sea = open(\"fishes.txt\", 'r')   \n",
        "\n",
        "print(sea.readline())  # displays the first line of the text\n",
        "print(sea.readline())  # displays the second line\n",
        "print(sea.readline())  # each time it goes to the new line\n",
        "\n",
        "sea.close()"
      ],
      "execution_count": null,
      "outputs": []
    },
    {
      "cell_type": "code",
      "metadata": {
        "id": "ZWT1ZQxUacS5"
      },
      "source": [
        "Orca is a kind of Dolphin.\n",
        "\n",
        "Blue Whale is the largest animal known on earth.\n",
        "\n",
        "Sharks are the sister group to the Rays (batoids)."
      ],
      "execution_count": null,
      "outputs": []
    },
    {
      "cell_type": "code",
      "metadata": {
        "id": "5CNg7Y_OaeOF"
      },
      "source": [
        "\\n alt satıra geçerken burayı karakter olarak almaz "
      ],
      "execution_count": null,
      "outputs": []
    },
    {
      "cell_type": "code",
      "metadata": {
        "id": "3r50V0mtawm-"
      },
      "source": [
        "sea = open(\"fishes.txt\", 'r')   \n",
        "\n",
        "print(sea.readlines())\n",
        "\n",
        "sea.close()\n",
        "#readlines liste ıcıne atar "
      ],
      "execution_count": null,
      "outputs": []
    },
    {
      "cell_type": "code",
      "metadata": {
        "id": "F7TRMAzma4Kk"
      },
      "source": [
        "['Orca is a kind of Dolphin.\\n', 'Blue Whale is the largest animal known on \n",
        "earth.\\n', 'Sharks are the sister group to the Rays (batoids).\\n', 'The Tuna \n",
        "Fish can weigh up to 260 kg.\\n', 'Squid and Octopus are in the same class.']\n"
      ],
      "execution_count": null,
      "outputs": []
    },
    {
      "cell_type": "code",
      "metadata": {
        "id": "JBiQxrLGbUCs"
      },
      "source": [
        "sea = open(\"fishes.txt\", 'r')   \n",
        "\n",
        "for line in sea:\n",
        "    print(line)\n",
        "\n",
        "sea.close()"
      ],
      "execution_count": null,
      "outputs": []
    },
    {
      "cell_type": "code",
      "metadata": {
        "id": "4CHI6BNlbXUx"
      },
      "source": [
        "Orca is a kind of Dolphin.\n",
        "\n",
        "Blue Whale is the largest animal known on earth.\n",
        "\n",
        "Sharks are the sister group to the Rays (batoids).\n",
        "\n",
        "The Tuna Fish can weigh up to 260 kg.\n",
        "\n",
        "Squid and Octopus are in the same class."
      ],
      "execution_count": null,
      "outputs": []
    },
    {
      "cell_type": "code",
      "metadata": {
        "id": "RhhSxQZRbddO"
      },
      "source": [
        "with open(\"fishes.txt\", \"r\") as sea:\n",
        "    print(sea.read())  # needs indented code block\n",
        "\n",
        "    # with open ile kapatmaya gerek yoktur"
      ],
      "execution_count": null,
      "outputs": []
    },
    {
      "cell_type": "code",
      "metadata": {
        "id": "KscDl9v2bs7K"
      },
      "source": [
        "fruits = ['Banana\\n', 'Orange\\n', 'Apple\\n', 'Strawberry\\n', 'Cherry\\n']\n",
        "\n",
        "with open(\"fruits.txt\", 'w', encoding=\"utf-8\") as file:\n",
        "    file.writelines(fruits)  # takes an iterator for writing\n",
        "   \n",
        "with open(\"fruits.txt\", 'r', encoding=\"utf-8\") as file:\n",
        "    print(file.read())\n",
        "\n",
        "with open(\"fruits.txt\", 'r', encoding=\"utf-8\") as file:\n",
        "    print(file.readlines())"
      ],
      "execution_count": null,
      "outputs": []
    },
    {
      "cell_type": "code",
      "metadata": {
        "id": "wHq4NDX7bs_B"
      },
      "source": [
        "Banana\n",
        "Orange\n",
        "Apple\n",
        "Strawberry\n",
        "Cherry\n",
        "\n",
        "['Banana\\n', 'Orange\\n', 'Apple\\n', 'Strawberry\\n', 'Cherry\\n']\n"
      ],
      "execution_count": null,
      "outputs": []
    },
    {
      "cell_type": "code",
      "metadata": {
        "id": "xikGJdfAbtDY"
      },
      "source": [
        ""
      ],
      "execution_count": null,
      "outputs": []
    },
    {
      "cell_type": "code",
      "metadata": {
        "id": "n_46pI89btG4"
      },
      "source": [
        ""
      ],
      "execution_count": null,
      "outputs": []
    }
  ]
}