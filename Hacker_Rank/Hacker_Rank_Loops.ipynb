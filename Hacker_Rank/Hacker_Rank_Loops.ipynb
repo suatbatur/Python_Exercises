{
  "nbformat": 4,
  "nbformat_minor": 0,
  "metadata": {
    "colab": {
      "name": "Hacker_Rank_Loops.ipynb",
      "provenance": [],
      "collapsed_sections": []
    },
    "kernelspec": {
      "name": "python3",
      "display_name": "Python 3"
    },
    "language_info": {
      "name": "python"
    }
  },
  "cells": [
    {
      "cell_type": "code",
      "metadata": {
        "id": "icoS99puMhyq"
      },
      "source": [
        "\"\"\"\n",
        "Task\n",
        "The provided code stub reads and integer, n, from STDIN. For all non-negative integers i<n, print i^2 .\n",
        "\n",
        "Example\n",
        "n=3\n",
        "The list of non-negative integers that are less than n=3 is [0,1,2]. Print the square of each number on a separate line.\n",
        "\n",
        "0\n",
        "1\n",
        "4\n",
        "\"\"\"\n",
        "if __name__ == '__main__':\n",
        "    n = int(input())\n",
        "    for i in range (n):\n",
        "        print(i**2)\n"
      ],
      "execution_count": null,
      "outputs": []
    }
  ]
}