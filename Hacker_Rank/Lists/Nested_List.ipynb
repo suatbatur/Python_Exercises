{
  "nbformat": 4,
  "nbformat_minor": 0,
  "metadata": {
    "colab": {
      "name": "Nested_List.ipynb",
      "provenance": [],
      "collapsed_sections": []
    },
    "kernelspec": {
      "name": "python3",
      "display_name": "Python 3"
    },
    "language_info": {
      "name": "python"
    }
  },
  "cells": [
    {
      "cell_type": "code",
      "metadata": {
        "id": "P9TUtT62Y1dD"
      },
      "source": [
        "\"\"\"\n",
        "Given the names and grades for each student in a class of N students, \n",
        "store them in a nested list and print the name(s) of any student(s) \n",
        "having the second lowest grade.\n",
        "\n",
        "Note: If there are multiple students with the second lowest grade,\n",
        "order their names alphabetically and print each name on a new line.\n",
        "\n",
        "Example\n",
        "records=[['chi',20.0],['beta',50.0],['alpha',50.0]]\n",
        "The ordered list of scores is [20.0,50.0], so the second lowest score is 50.0 \n",
        "There are two students with that score:['beta','alpha'] .\n",
        "Ordered alphabetically, the names are printed as:\n",
        "\n",
        "alpha\n",
        "beta\n",
        "\"\"\"\n",
        "\n",
        "students_grades = []\n",
        "grades = []\n",
        "second_lowest_students = []\n",
        "for i in range(3):\n",
        "  name = input(\"Enter student {} name: \".format(i+1))\n",
        "  grade =input(\"Enter student {} grade:\".format(i+1))\n",
        "  students_grades.append([name,grade])\n",
        "  grades.append(grade)\n",
        "\n",
        "second_lowest = sorted(grades)[1]\n",
        "\n",
        "for name,grade in students_grades:\n",
        "    if second_lowest== grade:\n",
        "        second_lowest_students.append(name)\n",
        "\n",
        "for i in  range (len(second_lowest_students)):\n",
        "    print(second_lowest_students[i])"
      ],
      "execution_count": null,
      "outputs": []
    }
  ]
}