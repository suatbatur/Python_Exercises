{
  "nbformat": 4,
  "nbformat_minor": 0,
  "metadata": {
    "colab": {
      "name": "Hacker_Rank_Write_a_Function.ipynb",
      "provenance": []
    },
    "kernelspec": {
      "name": "python3",
      "display_name": "Python 3"
    },
    "language_info": {
      "name": "python"
    }
  },
  "cells": [
    {
      "cell_type": "code",
      "metadata": {
        "colab": {
          "base_uri": "https://localhost:8080/"
        },
        "id": "k7i-iwB2NWhx",
        "outputId": "1f0dd9ad-da1d-4854-c02c-b4ecc3a27870"
      },
      "source": [
        "\"\"\"\n",
        "An extra day is added to the calendar almost every four years as February 29, \n",
        "and the day is called a leap day. It corrects the calendar for the fact that \n",
        "our planet takes approximately 365.25 days to orbit the sun. A leap year contains \n",
        "a leap day.\n",
        "\n",
        "In the Gregorian calendar, three conditions are used to identify leap years:\n",
        "\n",
        "The year can be evenly divided by 4, is a leap year, unless:\n",
        "The year can be evenly divided by 100, it is NOT a leap year, unless:\n",
        "The year is also evenly divisible by 400. Then it is a leap year.\n",
        "This means that in the Gregorian calendar, the years 2000 and 2400 are leap years, \n",
        "while 1800, 1900, 2100, 2200, 2300 and 2500 are NOT leap years.\n",
        "\n",
        "Task\n",
        "\n",
        "Given a year, determine whether it is a leap year. \n",
        "If it is a leap year, return the Boolean True, otherwise return False.\n",
        "\n",
        "Note that the code stub provided reads from STDIN and \n",
        "passes arguments to the is_leap function. It is only necessary to complete\n",
        " the is_leap function.\n",
        "\"\"\"\n",
        "def is_leap(year):\n",
        "    leap = False\n",
        "    \n",
        "    if (year % 400 == 0 or (year%4==0 and year%100!=0)):\n",
        "        leap=True\n",
        "        \n",
        "    return leap\n",
        "\n",
        "year = int(input())\n",
        "print(is_leap(year))"
      ],
      "execution_count": 1,
      "outputs": [
        {
          "output_type": "stream",
          "text": [
            "1900\n",
            "False\n"
          ],
          "name": "stdout"
        }
      ]
    }
  ]
}