{
  "nbformat": 4,
  "nbformat_minor": 0,
  "metadata": {
    "colab": {
      "name": "HackerRank_Lists.ipynb",
      "provenance": []
    },
    "kernelspec": {
      "name": "python3",
      "display_name": "Python 3"
    },
    "language_info": {
      "name": "python"
    }
  },
  "cells": [
    {
      "cell_type": "code",
      "metadata": {
        "id": "D3QiPOE2C2Tw"
      },
      "source": [
        "arr = []\n",
        "for i in range(int(raw_input())):\n",
        "    s = raw_input().split()\n",
        "    for i in range(1,len(s)):\n",
        "        s[i] = int(s[i])\n",
        "        \n",
        "    if s[0] == \"append\":\n",
        "        arr.append(s[1])\n",
        "    elif s[0] == \"extend\":    \n",
        "        arr.extend(s[1:])\n",
        "    elif s[0] == \"insert\":\n",
        "        arr.insert(s[1],s[2])\n",
        "    elif s[0] == \"remove\":\n",
        "        arr.remove(s[1])\n",
        "    elif s[0] == \"pop\":\n",
        "        arr.pop()\n",
        "    elif s[0] == \"index\":\n",
        "        print arr.index(s[1])\n",
        "    elif s[0] == \"count\":\n",
        "        print arr.count(s[1])\n",
        "    elif s[0] == \"sort\":\n",
        "        arr.sort()\n",
        "    elif s[0] == \"reverse\":\n",
        "        arr.reverse()\n",
        "    elif s[0] == \"print\":\n",
        "        print arr"
      ],
      "execution_count": null,
      "outputs": []
    }
  ]
}