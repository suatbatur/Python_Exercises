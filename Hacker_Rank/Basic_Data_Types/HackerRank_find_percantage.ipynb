{
  "nbformat": 4,
  "nbformat_minor": 0,
  "metadata": {
    "colab": {
      "name": "HackerRank_find_percantage.ipynb",
      "provenance": []
    },
    "kernelspec": {
      "name": "python3",
      "display_name": "Python 3"
    },
    "language_info": {
      "name": "python"
    }
  },
  "cells": [
    {
      "cell_type": "code",
      "metadata": {
        "id": "IBnFicbByeG2"
      },
      "source": [
        "students_scores = {}\n",
        "a= int(input(\"Please enter number of students : \"))\n",
        "for i in range(a):\n",
        "  name = input(\"Please enter student name : \")\n",
        "  score =[]\n",
        "  for j in range (3):\n",
        "    exam = int(input(\"enter {}. exam score : \".format(j+1)))\n",
        "    score.append(exam)\n",
        "  students_scores[name.lower()]=score\n",
        "  \n",
        "b = input(\"Which student's percentages: \")\n",
        "print(sum(students_scores[b])/3)\n",
        "\n",
        "\n"
      ],
      "execution_count": null,
      "outputs": []
    },
    {
      "cell_type": "code",
      "metadata": {
        "id": "jhmsokbQ8YkG"
      },
      "source": [
        "\n"
      ],
      "execution_count": null,
      "outputs": []
    }
  ]
}