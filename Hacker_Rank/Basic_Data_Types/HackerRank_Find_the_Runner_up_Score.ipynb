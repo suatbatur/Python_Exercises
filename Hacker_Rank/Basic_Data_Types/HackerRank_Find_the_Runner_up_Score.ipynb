{
  "nbformat": 4,
  "nbformat_minor": 0,
  "metadata": {
    "colab": {
      "name": "HackerRank_Find_the_Runner_up_Score.ipynb",
      "provenance": [],
      "collapsed_sections": []
    },
    "kernelspec": {
      "name": "python3",
      "display_name": "Python 3"
    },
    "language_info": {
      "name": "python"
    }
  },
  "cells": [
    {
      "cell_type": "code",
      "metadata": {
        "id": "xml3Rv5PRpkM",
        "colab": {
          "base_uri": "https://localhost:8080/"
        },
        "outputId": "17885e59-c6f4-4527-e2b4-20f4594a2676"
      },
      "source": [
        "nums = int(input())\n",
        "arr = map(int, input().split())\n"
      ],
      "execution_count": 7,
      "outputs": [
        {
          "output_type": "stream",
          "text": [
            "5\n",
            "2\n",
            "<map object at 0x7f0bf9002d50>\n"
          ],
          "name": "stdout"
        }
      ]
    },
    {
      "cell_type": "code",
      "metadata": {
        "id": "_r1nMCTxS2UN"
      },
      "source": [
        "\"\"\"\n",
        "Given the participants' score sheet for your University Sports Day, \n",
        "you are required to find the runner-up score. You are given  scores.\n",
        " Store them in a list and find the score of the runner-up.\n",
        "\"\"\""
      ],
      "execution_count": null,
      "outputs": []
    },
    {
      "cell_type": "code",
      "metadata": {
        "id": "634ZEMu9sJVl"
      },
      "source": [
        "n = int(input())\n",
        "    arr = map(int, input().split())\n",
        "print (sorted(set(arr))[-2])"
      ],
      "execution_count": null,
      "outputs": []
    }
  ]
}