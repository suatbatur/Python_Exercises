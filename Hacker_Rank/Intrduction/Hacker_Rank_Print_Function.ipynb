{
  "nbformat": 4,
  "nbformat_minor": 0,
  "metadata": {
    "colab": {
      "name": "Hacker_Rank_Print_Function.ipynb",
      "provenance": []
    },
    "kernelspec": {
      "name": "python3",
      "display_name": "Python 3"
    },
    "language_info": {
      "name": "python"
    }
  },
  "cells": [
    {
      "cell_type": "code",
      "metadata": {
        "colab": {
          "base_uri": "https://localhost:8080/"
        },
        "id": "apnP-P3xQR5r",
        "outputId": "02fee842-1751-4142-90c6-9c67e962b0d4"
      },
      "source": [
        "\"\"\"\n",
        "The included code stub will read an integer, n, from STDIN.\n",
        "\n",
        "Without using any string methods, try to print the following:\n",
        "123...n\n",
        "\n",
        "Note that \"...\" represents the consecutive values in between.\n",
        "\n",
        "Example\n",
        "n=5\n",
        "Print the string 12345.\n",
        "\n",
        "\"\"\"\n",
        "if __name__ == '__main__':\n",
        "    n = int(input())\n",
        "    for i in range(1,n+1):\n",
        "        print(n-(n-i),end=\"\")"
      ],
      "execution_count": 1,
      "outputs": [
        {
          "output_type": "stream",
          "text": [
            "5\n",
            "12345"
          ],
          "name": "stdout"
        }
      ]
    }
  ]
}