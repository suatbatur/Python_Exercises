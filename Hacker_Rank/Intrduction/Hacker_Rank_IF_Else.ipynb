{
  "nbformat": 4,
  "nbformat_minor": 0,
  "metadata": {
    "colab": {
      "name": "Hacker_Rank_IF-Else.ipynb",
      "provenance": [],
      "collapsed_sections": []
    },
    "kernelspec": {
      "name": "python3",
      "display_name": "Python 3"
    },
    "language_info": {
      "name": "python"
    }
  },
  "cells": [
    {
      "cell_type": "code",
      "metadata": {
        "colab": {
          "base_uri": "https://localhost:8080/"
        },
        "id": "ri4R-0sXInht",
        "outputId": "75f31424-9441-46b9-a561-5f8230fc2fab"
      },
      "source": [
        "\"\"\"\n",
        "Given an integer, n, perform the following conditional actions:\n",
        "\n",
        "If n is odd, print Weird\n",
        "If n is even and in the inclusive range of 2 to 5, print Not Weird\n",
        "If n is even and in the inclusive range of 6 to 20, print Weird\n",
        "If n is even and greater than 20, print Not Weird\n",
        "\n",
        "\"\"\"\n",
        "import math\n",
        "import os\n",
        "import random\n",
        "import re\n",
        "import sys\n",
        "\n",
        "\n",
        "\n",
        "if __name__ == '__main__':\n",
        "    n = int(input().strip())\n",
        "if n%2==1:\n",
        "    print(\"Weird\")\n",
        "elif n%2==0 and 2<=n<=5:\n",
        "    print(\"Not Weird\")\n",
        "elif n%2==0 and 6<=n<=20:\n",
        "    print(\"Weird\")\n",
        "elif n%2==0 and n>20:\n",
        "    print(\"Not Weird\")\n"
      ],
      "execution_count": 2,
      "outputs": [
        {
          "output_type": "stream",
          "text": [
            "22\n",
            "Not Weird\n"
          ],
          "name": "stdout"
        }
      ]
    }
  ]
}