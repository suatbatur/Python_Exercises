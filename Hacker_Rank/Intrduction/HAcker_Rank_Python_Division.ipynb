{
  "nbformat": 4,
  "nbformat_minor": 0,
  "metadata": {
    "colab": {
      "name": "HAcker_Rank_Python:Division.ipynb",
      "provenance": [],
      "collapsed_sections": []
    },
    "kernelspec": {
      "name": "python3",
      "display_name": "Python 3"
    },
    "language_info": {
      "name": "python"
    }
  },
  "cells": [
    {
      "cell_type": "code",
      "metadata": {
        "id": "HrUmQSW-LnwI"
      },
      "source": [
        "\"\"\"\n",
        "Task\n",
        "The provided code stub reads two integers, a and b, from STDIN.\n",
        "\n",
        "Add logic to print two lines. The first line should contain the result of integer division,  a//b. \n",
        "The second line should contain the result of float division,  a/b.\n",
        "No rounding or formatting is necessary.\n",
        "\n",
        "Example\n",
        "a=3\n",
        "b=5\n",
        "\n",
        "The result of the integer division 3/5=0.\n",
        "The result of the float division is 3/5=0.6.\n",
        "Print:\n",
        "\n",
        "0\n",
        "0.6\n",
        "\"\"\"\n",
        "if __name__ == '__main__':\n",
        "    a = int(input())\n",
        "    b = int(input())\n",
        "    print(int(a/b))\n",
        "    print(float(a/b))\n"
      ],
      "execution_count": null,
      "outputs": []
    }
  ]
}