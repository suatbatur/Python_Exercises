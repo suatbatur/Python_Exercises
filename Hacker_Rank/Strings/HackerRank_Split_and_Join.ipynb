{
  "nbformat": 4,
  "nbformat_minor": 0,
  "metadata": {
    "colab": {
      "name": "HackerRank_Split_and_Join.ipynb",
      "provenance": []
    },
    "kernelspec": {
      "name": "python3",
      "display_name": "Python 3"
    },
    "language_info": {
      "name": "python"
    }
  },
  "cells": [
    {
      "cell_type": "code",
      "metadata": {
        "id": "fHnXa1TWI-5e"
      },
      "source": [
        "def split_and_join(line):\n",
        "    line= line.split(\" \")\n",
        "    line= \"-\".join(line)\n",
        "    return line\n",
        "    \n",
        "\n",
        "if __name__ == '__main__':\n",
        "    line = input()\n",
        "    result = split_and_join(line)\n",
        "    print(result)"
      ],
      "execution_count": null,
      "outputs": []
    },
    {
      "cell_type": "code",
      "metadata": {
        "colab": {
          "base_uri": "https://localhost:8080/"
        },
        "id": "3nWmfKseH_7w",
        "outputId": "39892f67-4d78-4ebc-9517-ff174c308d1e"
      },
      "source": [
        "line = \"This is a string\"\n",
        "line= line.split(\" \")\n",
        "print(line)\n",
        "line= \"-\".join(line)\n",
        "print(line)"
      ],
      "execution_count": 3,
      "outputs": [
        {
          "output_type": "stream",
          "text": [
            "['This', 'is', 'a', 'string']\n",
            "This-is-a-string\n"
          ],
          "name": "stdout"
        }
      ]
    }
  ]
}