{
  "nbformat": 4,
  "nbformat_minor": 0,
  "metadata": {
    "colab": {
      "name": "HackerRank_Find_a_String.ipynb",
      "provenance": []
    },
    "kernelspec": {
      "name": "python3",
      "display_name": "Python 3"
    },
    "language_info": {
      "name": "python"
    }
  },
  "cells": [
    {
      "cell_type": "markdown",
      "metadata": {
        "id": "u73U8587R5e6"
      },
      "source": [
        "Find a String\n",
        "In this challenge, the user enters a string and a substring. You have to print the number of times that the substring occurs in the given string. String traversal will take place from left to right, not from right to left."
      ]
    },
    {
      "cell_type": "code",
      "metadata": {
        "colab": {
          "base_uri": "https://localhost:8080/"
        },
        "id": "wuc2sIh-Pic3",
        "outputId": "6263e9ee-f197-4fab-96a9-a3f3d71d7c17"
      },
      "source": [
        "def count_substring(string, sub_string):\n",
        "  sum=0\n",
        "  for i in range(0,len(string)+1):\n",
        "\n",
        "    if string[i:(i+len(sub_string))]==sub_string:\n",
        "      \n",
        "      sum+=1 \n",
        "  return sum\n",
        "\n",
        "if __name__ == '__main__':\n",
        "    string = input().strip()\n",
        "    sub_string = input().strip()\n",
        "    \n",
        "    count = count_substring(string, sub_string)\n",
        "    print(count)"
      ],
      "execution_count": 7,
      "outputs": [
        {
          "output_type": "stream",
          "text": [
            "ABCDCDC\n",
            "CDC\n",
            "2\n"
          ],
          "name": "stdout"
        }
      ]
    }
  ]
}