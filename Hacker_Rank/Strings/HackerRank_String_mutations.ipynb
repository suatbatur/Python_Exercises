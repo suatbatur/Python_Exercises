{
  "nbformat": 4,
  "nbformat_minor": 0,
  "metadata": {
    "colab": {
      "name": "HackerRank_String_mutations.ipynb",
      "provenance": []
    },
    "kernelspec": {
      "name": "python3",
      "display_name": "Python 3"
    },
    "language_info": {
      "name": "python"
    }
  },
  "cells": [
    {
      "cell_type": "markdown",
      "metadata": {
        "id": "hvbVIphIMpzR"
      },
      "source": [
        "Task\n",
        "Read a given string, change the character at a given index and then print the modified string.\n",
        "string = \"abracadabra\"\n",
        "\n",
        "l = list(string)\n",
        "\n",
        "l[5] = 'k'\n",
        "\n",
        "string = ''.join(l)\n",
        "\n",
        "print string\n",
        "\n",
        "abrackdabra"
      ]
    },
    {
      "cell_type": "code",
      "metadata": {
        "id": "nxH7GFOvMZaM"
      },
      "source": [
        " def mutate_string(string, position, character):\n",
        "    a=list(s)\n",
        "    a[int(i)]=c\n",
        "    a=\"\".join(a)\n",
        "    return a\n",
        "\n",
        "if __name__ == '__main__':\n",
        "    s = input()\n",
        "    i, c = input().split()\n",
        "    s_new = mutate_string(s, int(i), c)\n",
        "    print(s_new)"
      ],
      "execution_count": null,
      "outputs": []
    }
  ]
}