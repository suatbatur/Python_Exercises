{
  "nbformat": 4,
  "nbformat_minor": 0,
  "metadata": {
    "colab": {
      "name": "baseball_game.ipynb",
      "provenance": [],
      "collapsed_sections": []
    },
    "kernelspec": {
      "name": "python3",
      "display_name": "Python 3"
    },
    "language_info": {
      "name": "python"
    }
  },
  "cells": [
    {
      "cell_type": "markdown",
      "metadata": {
        "id": "HxjrZxFIu7Ti"
      },
      "source": [
        "BASEBALL GAME\n",
        "\n",
        "You are keeping score for a baseball game with strange rules. The game consist of several rounds, where the\n",
        "scores of past rounds may affect future rounds' scores.\n",
        "At the beginning of the game, you start with an empty record. You are given a list of strings ops, where\n",
        "ops[i] is the ith operation you must apply to the record and is one of the following:\n",
        "\n",
        "An integer x - Record a new score of x,\n",
        "\n",
        "\"+\" - Record a new score that is the sum of the previous scores. It is guaranteed there will always be\n",
        "two previous scores.\n",
        "\n",
        "\"D\" - Record a new score that is double the previous score. It is guaranteed there will always be a\n",
        "previous score.\n",
        "\n",
        "\"C\" - Invalidate the pevious score, removing it from the record. It is guaranteed there will always be a\n",
        "previous score.\n",
        "\n",
        "Return the sum of all the scores on the record."
      ]
    },
    {
      "cell_type": "code",
      "metadata": {
        "colab": {
          "base_uri": "https://localhost:8080/"
        },
        "id": "AeVTLvHZZIIL",
        "outputId": "421a6511-5c55-4341-f69b-0f7419464f00"
      },
      "source": [
        "# ops = [\"5\",\"2\",\"C\",\"D\",\"+\"]\n",
        "# if len(i)>1 and i.startswith(\"-\"):\n",
        "#   record.append(int(i))\n",
        "ops = [\"5\", \"-2\", \"4\", \"C\", \"D\", \"9\", \"+\", \"+\"]\n",
        "record =[]\n",
        "\n",
        "for i in ops:\n",
        "\n",
        "  if i.isnumeric():\n",
        "    record.append(int(i))\n",
        "  elif i==\"D\":\n",
        "    record.append(record[-1]*2)\n",
        "  elif i==\"C\":\n",
        "    record.pop()\n",
        "  elif i==\"+\":\n",
        "    record.append(record[-1]+record[-2])\n",
        "  else:\n",
        "    record.append(int(i))\n",
        "print(record)\n",
        "print(sum(record))"
      ],
      "execution_count": 32,
      "outputs": [
        {
          "output_type": "stream",
          "name": "stdout",
          "text": [
            "[5, -2, -4, 9, 5, 14]\n",
            "27\n"
          ]
        }
      ]
    }
  ]
}