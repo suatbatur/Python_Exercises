{
  "nbformat": 4,
  "nbformat_minor": 0,
  "metadata": {
    "colab": {
      "name": "metin_düzeltme.ipynb",
      "provenance": []
    },
    "kernelspec": {
      "name": "python3",
      "display_name": "Python 3"
    },
    "language_info": {
      "name": "python"
    }
  },
  "cells": [
    {
      "cell_type": "code",
      "metadata": {
        "colab": {
          "base_uri": "https://localhost:8080/"
        },
        "id": "bYZlrSwWOsKM",
        "outputId": "51cf6bf5-2ffc-4b03-9fa0-57d64096c5ea"
      },
      "source": [
        "text = \"Canim migicabab her namaz aklimdasin. migicabaB seni koc ozledim, ines cok ama cok .muroyives\"\n",
        "l=text.split(\" \")\n",
        "for i in range(1,len(l),2): #liste haline çevirdiğim cümlenin index numarası tek\n",
        "  l[i]=l[i][::-1]           #olan elemanları ters çevirdim.\n",
        "\n",
        "edited_text = \"\"\n",
        "for i in l:                     #listedeki elemanları düz metin haline getirdim.\n",
        "  edited_text= edited_text + \" \" + i\n",
        "\n",
        "print(edited_text.strip())\n",
        "  \n",
        "\n",
        "\n"
      ],
      "execution_count": 35,
      "outputs": [
        {
          "output_type": "stream",
          "text": [
            "Canim babacigim her zaman aklimdasin. Babacigim seni cok ozledim, seni cok ama cok seviyorum.\n"
          ],
          "name": "stdout"
        }
      ]
    }
  ]
}