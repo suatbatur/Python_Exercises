{
  "nbformat": 4,
  "nbformat_minor": 0,
  "metadata": {
    "colab": {
      "name": "pisagor_uclusu.ipynb",
      "provenance": []
    },
    "kernelspec": {
      "name": "python3",
      "display_name": "Python 3"
    },
    "language_info": {
      "name": "python"
    }
  },
  "cells": [
    {
      "cell_type": "code",
      "metadata": {
        "colab": {
          "base_uri": "https://localhost:8080/"
        },
        "id": "WfE9JModWLTa",
        "outputId": "b061b0bc-bb0f-4486-e392-2a69cb7e5df4"
      },
      "source": [
        "def pisagor():\n",
        "  for a in range(1,1000):\n",
        "    for b in range(a+1,1000):\n",
        "      c = 1000-(a+b)\n",
        "      if a*a +b*b == c*c:\n",
        "        print(a,b,c)\n",
        "      \n",
        "pisagor()"
      ],
      "execution_count": 40,
      "outputs": [
        {
          "output_type": "stream",
          "text": [
            "200 375 425\n"
          ],
          "name": "stdout"
        }
      ]
    },
    {
      "cell_type": "code",
      "metadata": {
        "colab": {
          "base_uri": "https://localhost:8080/"
        },
        "id": "WuoTZjUIfeCo",
        "outputId": "f17fafcf-5dd1-419e-bdb6-83f14332f2f3"
      },
      "source": [
        ""
      ],
      "execution_count": 43,
      "outputs": [
        {
          "output_type": "stream",
          "text": [
            "0\n"
          ],
          "name": "stdout"
        }
      ]
    }
  ]
}