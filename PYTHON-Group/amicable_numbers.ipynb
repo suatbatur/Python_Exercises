{
  "nbformat": 4,
  "nbformat_minor": 0,
  "metadata": {
    "colab": {
      "name": "amicable_numbers.ipynb",
      "provenance": [],
      "collapsed_sections": []
    },
    "kernelspec": {
      "name": "python3",
      "display_name": "Python 3"
    },
    "language_info": {
      "name": "python"
    }
  },
  "cells": [
    {
      "cell_type": "code",
      "metadata": {
        "colab": {
          "base_uri": "https://localhost:8080/"
        },
        "id": "2RuVBr5sCZQ7",
        "outputId": "036efc2e-afcd-49c4-cafc-fd30a5dc4788"
      },
      "source": [
        "#amicable numbers\n",
        "amicable_numbers = []\n",
        "def divisors_total(a):\n",
        "  global total\n",
        "  total =0\n",
        "  for i in range(1,a):\n",
        "    if a%i ==0:\n",
        "      total+=i\n",
        "  return total\n",
        "i=0\n",
        "while i<10000:\n",
        "  if divisors_total(divisors_total(i)) ==i and divisors_total(i)!=i:\n",
        "    amicable_numbers.append(i)\n",
        "  i+=1\n",
        "print(amicable_numbers)\n",
        "print(sum(amicable_numbers))\n"
      ],
      "execution_count": 37,
      "outputs": [
        {
          "output_type": "stream",
          "text": [
            "[220, 284, 1184, 1210, 2620, 2924, 5020, 5564, 6232, 6368]\n",
            "31626\n"
          ],
          "name": "stdout"
        }
      ]
    }
  ]
}