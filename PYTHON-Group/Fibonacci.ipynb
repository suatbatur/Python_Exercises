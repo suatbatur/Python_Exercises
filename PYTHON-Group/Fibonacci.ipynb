{
  "nbformat": 4,
  "nbformat_minor": 0,
  "metadata": {
    "colab": {
      "name": "Fibonacci.ipynb",
      "provenance": []
    },
    "kernelspec": {
      "name": "python3",
      "display_name": "Python 3"
    },
    "language_info": {
      "name": "python"
    }
  },
  "cells": [
    {
      "cell_type": "code",
      "metadata": {
        "colab": {
          "base_uri": "https://localhost:8080/"
        },
        "id": "zV50pa8oKuVu",
        "outputId": "434d39bd-9fd2-4dc1-dde9-299d961da36b"
      },
      "source": [
        "#fibonacci dizisi\n",
        "#0, 1, 1, 2, 3, 5, 8, 13, 21, 34, 55, 89, 144, 233, 377, 610, 987 ...\n",
        "count = int(input(\"how many fibo numbers will write\"))\n",
        "fibonacci =[]\n",
        "a=0\n",
        "b=1\n",
        "total = 0\n",
        "c=0\n",
        "while c<count:\n",
        "   \n",
        "  total = a+b\n",
        "  a=b\n",
        "  b=total\n",
        "  fibonacci.append(total)\n",
        "  c+=1\n",
        "print(fibonacci)\n",
        "\n",
        "\n",
        "\n",
        "  \n",
        "\n"
      ],
      "execution_count": 10,
      "outputs": [
        {
          "output_type": "stream",
          "text": [
            "how many fibo numbers will write10\n",
            "[1, 2, 3, 5, 8, 13, 21, 34, 55, 89]\n"
          ],
          "name": "stdout"
        }
      ]
    }
  ]
}