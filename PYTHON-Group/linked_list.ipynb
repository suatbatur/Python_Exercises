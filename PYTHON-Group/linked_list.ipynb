{
  "nbformat": 4,
  "nbformat_minor": 0,
  "metadata": {
    "colab": {
      "name": "linked_list.ipynb",
      "provenance": []
    },
    "kernelspec": {
      "name": "python3",
      "display_name": "Python 3"
    },
    "language_info": {
      "name": "python"
    }
  },
  "cells": [
    {
      "cell_type": "code",
      "metadata": {
        "colab": {
          "base_uri": "https://localhost:8080/"
        },
        "id": "NhKQxehRrzzK",
        "outputId": "47681392-34e1-4686-8164-0398dbd55e00"
      },
      "source": [
        "liste =[0,1,2,3,4,5]\n",
        "def shift_linked():\n",
        "  #liste =  list(map(int, input(\"head= \")).split(\"->\"))\n",
        "  k=int(input(\"k=\"))\n",
        "  print(\"->\".join(map(str, liste[-k:]))+ \"->\" + \"->\".join(map(str, liste[0:-k])))\n",
        "\n",
        "shift_linked()\n",
        "\n",
        "\n",
        " "
      ],
      "execution_count": 7,
      "outputs": [
        {
          "output_type": "stream",
          "text": [
            "k=2\n",
            "4->5->0->1->2->3\n"
          ],
          "name": "stdout"
        }
      ]
    },
    {
      "cell_type": "code",
      "metadata": {
        "colab": {
          "base_uri": "https://localhost:8080/"
        },
        "id": "tTy8cCtsxbaL",
        "outputId": "1cd6659f-fa6e-41d0-eda1-4ab9df54a98e"
      },
      "source": [
        "def shift_linked():\n",
        "  liste=list(map(int, input(\"head= \").split(\"->\")))\n",
        "  k=int(input(\"k=\"))\n",
        "  print(\"->\".join(map(str,liste[-k:]))+\"->\"+\"->\".join(map(str,liste[0:-k])))\n",
        "shift_linked()  "
      ],
      "execution_count": 8,
      "outputs": [
        {
          "output_type": "stream",
          "text": [
            "head= 0->1->2->3->4->5\n",
            "k=2\n",
            "4->5->0->1->2->3\n"
          ],
          "name": "stdout"
        }
      ]
    }
  ]
}