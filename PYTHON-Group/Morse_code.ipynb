{
  "nbformat": 4,
  "nbformat_minor": 0,
  "metadata": {
    "colab": {
      "name": "Morse_code.ipynb",
      "provenance": [],
      "collapsed_sections": []
    },
    "kernelspec": {
      "name": "python3",
      "display_name": "Python 3"
    },
    "language_info": {
      "name": "python"
    }
  },
  "cells": [
    {
      "cell_type": "code",
      "metadata": {
        "colab": {
          "base_uri": "https://localhost:8080/"
        },
        "id": "KWiV_XkhEkMG",
        "outputId": "a92b3fec-9752-4547-e467-5672d880a19c"
      },
      "source": [
        "morse_codes = {\n",
        "  'A': '.-', 'B': '-...', 'C': '-.-.', 'D': '-..', 'E': '.', 'F': '..-.',\n",
        "  'G': '--.', 'H': '....', 'I': '..', 'J': '.---', 'K': '-.-', 'L': '.-..',\n",
        "  'M': '--', 'N': '-.', 'O': '---', 'P': '.--.', 'Q': '--.-', 'R': '.-.',\n",
        "  'S': '...', 'T': '-', 'U': '..-', 'V': '...-', 'W': '.--', 'X': '-..-',\n",
        "  'Y': '-.--', 'Z': '--..', ' ': ' ', '0': '-----',\n",
        "  '1': '.----', '2': '..---', '3': '...--', '4': '....-', '5': '.....',\n",
        "  '6': '-....', '7': '--...', '8': '---..', '9': '----.',\n",
        "  '&': '.-...', \"'\": '.----.', '@': '.--.-.', ')': '-.--.-', '(': '-.--.',\n",
        "  ':': '---...', ',': '--..--', '=': '-...-', '!': '-.-.--', '.': '.-.-.-',\n",
        "  '-': '-....-', '+': '.-.-.', '\"': '.-..-.', '?': '..--..', '/': '-..-.'\n",
        "}\n",
        "# cümle morse koduna çeviriliyor\n",
        "sentence = input(\"lütfen kelime ya da cümle giriniz: \").upper()\n",
        "morse = \"\"\n",
        "for i in sentence:\n",
        "    morse += morse_codes[i] + \" \"\n",
        "print(morse)        \n",
        "# mors kodu cümleye çeviriliyor.\n",
        "coded = input(\"lütfen mors kodunu giriniz: \").split()\n",
        "decoded = \"\"\n",
        "for i in coded:\n",
        "    for j in morse_codes.keys():\n",
        "        if i == morse_codes[j]:\n",
        "            decoded += j+\" \"\n",
        "print(decoded)            \n"
      ],
      "execution_count": 6,
      "outputs": [
        {
          "output_type": "stream",
          "text": [
            "lütfen kelime ya da cümle giriniz: ama\n",
            ".- -- .- \n",
            "lütfen mors kodunu giriniz: .-   --   .-\n",
            "A M A \n"
          ],
          "name": "stdout"
        }
      ]
    }
  ]
}