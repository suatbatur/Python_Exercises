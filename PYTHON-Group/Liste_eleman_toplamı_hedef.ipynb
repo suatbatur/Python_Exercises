{
  "nbformat": 4,
  "nbformat_minor": 0,
  "metadata": {
    "colab": {
      "name": "Liste_eleman_toplamı_hedef.ipynb",
      "provenance": []
    },
    "kernelspec": {
      "name": "python3",
      "display_name": "Python 3"
    },
    "language_info": {
      "name": "python"
    }
  },
  "cells": [
    {
      "cell_type": "code",
      "metadata": {
        "colab": {
          "base_uri": "https://localhost:8080/"
        },
        "id": "9hI8E53WatVS",
        "outputId": "15466849-edea-418c-92b2-7b4297a81fbb"
      },
      "source": [
        "#num_list = [8,2,4,7,1,5,6,9]\n",
        "#hedef = 16\n",
        "num_list = [22,5,11,7,19,4,12]\n",
        "hedef = 24\n",
        "index =[]\n",
        "for i in range(len(num_list)):\n",
        "  for j in range(i+1,len(num_list)):\n",
        "    if num_list[i]+num_list[j] == hedef:\n",
        "      index.append(i)\n",
        "      index.append(j)\n",
        "print(index)\n",
        "\n",
        "      \n",
        "\n",
        "\n"
      ],
      "execution_count": 21,
      "outputs": [
        {
          "output_type": "stream",
          "text": [
            "[1, 4]\n"
          ],
          "name": "stdout"
        }
      ]
    }
  ]
}