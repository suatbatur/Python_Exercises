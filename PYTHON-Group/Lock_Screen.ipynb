{
  "nbformat": 4,
  "nbformat_minor": 0,
  "metadata": {
    "colab": {
      "name": "Lock_Screen.ipynb",
      "provenance": [],
      "collapsed_sections": []
    },
    "kernelspec": {
      "name": "python3",
      "display_name": "Python 3"
    },
    "language_info": {
      "name": "python"
    }
  },
  "cells": [
    {
      "cell_type": "code",
      "metadata": {
        "id": "o_9Tiyly8CxN"
      },
      "source": [
        "import time\n",
        "sifre = 4434\n",
        "\n",
        "def bekle(sn):\n",
        "    print(\"{}sn beklemeniz gerekmektedir!!!\".format(sn))\n",
        "    while sn>=0:\n",
        "        print(sn,end=\",\")\n",
        "        time.sleep(1)\n",
        "        sn=sn-1\n",
        "        \n",
        "def parolaiste():\n",
        "    global parola\n",
        "    parola=int(input(\"4 haneli kilit şifresini giriniz:\"))\n",
        "\n",
        "while True:\n",
        "    parolaiste()\n",
        "    sayac=1\n",
        "    if parola==sifre:\n",
        "        print(\"GİRİŞ DOĞRULANDI.\")\n",
        "        break\n",
        "    elif parola!=sifre:\n",
        "        print(\"HATALI ŞİFRE\")\n",
        "        while True:\n",
        "            sayac+=1\n",
        "            parolaiste()\n",
        "            \n",
        "            if parola==sifre:\n",
        "                print(\"GİRİŞ DOĞRULANDI\")\n",
        "                sayac=1\n",
        "                break\n",
        "            elif sayac>=0 and sayac<3:\n",
        "                print(\"HATALI ŞİFRE\")\n",
        "            elif sayac>=3 and sayac<5:\n",
        "                print(\"HATALI ŞİFRE\")\n",
        "                print(\"3 ve daha fazla hatalı şifre girdiniz. 3 sn beklemeniz gerekmektedir!\")\n",
        "                bekle(3)\n",
        "                print()\n",
        "                \n",
        "            elif sayac>=5 and sayac<10:\n",
        "                print(\"HATALI ŞİFRE\")\n",
        "                print(\"5 ve daha fazla hatalı şifre girdiniz. 10 sn beklemeniz gerekmektedir!\")\n",
        "                bekle(10)\n",
        "                print()\n",
        "                \n",
        "            elif sayac>=10:\n",
        "                print(\"HATALI ŞİFRE\")\n",
        "                print(\"10 ve daha fazla hatalı şifre girdiniz. 30 sn beklemeniz gerekmektedir!\")\n",
        "                bekle(30)\n",
        "                print()\n",
        "                \n",
        "    break\n",
        "\n",
        "\n",
        "\n"
      ],
      "execution_count": null,
      "outputs": []
    }
  ]
}