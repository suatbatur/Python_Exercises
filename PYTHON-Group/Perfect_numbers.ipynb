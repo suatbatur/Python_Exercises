{
  "nbformat": 4,
  "nbformat_minor": 0,
  "metadata": {
    "colab": {
      "name": "Perfect_numbers.ipynb",
      "provenance": []
    },
    "kernelspec": {
      "name": "python3",
      "display_name": "Python 3"
    },
    "language_info": {
      "name": "python"
    }
  },
  "cells": [
    {
      "cell_type": "code",
      "metadata": {
        "colab": {
          "base_uri": "https://localhost:8080/"
        },
        "id": "8gQPukcWILXY",
        "outputId": "570f94bb-80c0-47a8-c91b-21616f5ea3f1"
      },
      "source": [
        "#Mükemmel sayı\n",
        "\n",
        "number = int(input(\"Enter a number\"))\n",
        "divisor =[]\n",
        "for i in range(1,number):\n",
        "  if number % i ==0:\n",
        "    divisor.append(i)\n",
        "  else:\n",
        "    pass\n",
        "if sum(divisor) == number:\n",
        "  print(\"{} is a perfect number.\".format(number))\n",
        "else:\n",
        "  print(\"{} is  NOT a perfect number.\".format(number))\n"
      ],
      "execution_count": 4,
      "outputs": [
        {
          "output_type": "stream",
          "text": [
            "6\n"
          ],
          "name": "stdout"
        }
      ]
    }
  ]
}