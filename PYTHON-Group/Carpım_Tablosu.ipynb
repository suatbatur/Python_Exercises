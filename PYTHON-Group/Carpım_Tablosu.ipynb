{
  "nbformat": 4,
  "nbformat_minor": 0,
  "metadata": {
    "colab": {
      "name": "Carpım_Tablosu.ipynb",
      "provenance": []
    },
    "kernelspec": {
      "name": "python3",
      "display_name": "Python 3"
    },
    "language_info": {
      "name": "python"
    }
  },
  "cells": [
    {
      "cell_type": "code",
      "metadata": {
        "colab": {
          "base_uri": "https://localhost:8080/"
        },
        "id": "1HGZrCRc-3pp",
        "outputId": "4ac0b4b5-63ab-4eec-e820-ad24ac2c0bd5"
      },
      "source": [
        "#çarpım tablosu\n",
        "for i in range(1, 11):  \n",
        "  for j in range(1,11):\n",
        "    print((f\"{i}*{j} = {i*j}\"), \"\\t\", end =\"\\t\")\n",
        "  print(\"\")\n"
      ],
      "execution_count": 1,
      "outputs": [
        {
          "output_type": "stream",
          "text": [
            "1*1 = 1 \t\t1*2 = 2 \t\t1*3 = 3 \t\t1*4 = 4 \t\t1*5 = 5 \t\t1*6 = 6 \t\t1*7 = 7 \t\t1*8 = 8 \t\t1*9 = 9 \t\t1*10 = 10 \t\t\n",
            "2*1 = 2 \t\t2*2 = 4 \t\t2*3 = 6 \t\t2*4 = 8 \t\t2*5 = 10 \t\t2*6 = 12 \t\t2*7 = 14 \t\t2*8 = 16 \t\t2*9 = 18 \t\t2*10 = 20 \t\t\n",
            "3*1 = 3 \t\t3*2 = 6 \t\t3*3 = 9 \t\t3*4 = 12 \t\t3*5 = 15 \t\t3*6 = 18 \t\t3*7 = 21 \t\t3*8 = 24 \t\t3*9 = 27 \t\t3*10 = 30 \t\t\n",
            "4*1 = 4 \t\t4*2 = 8 \t\t4*3 = 12 \t\t4*4 = 16 \t\t4*5 = 20 \t\t4*6 = 24 \t\t4*7 = 28 \t\t4*8 = 32 \t\t4*9 = 36 \t\t4*10 = 40 \t\t\n",
            "5*1 = 5 \t\t5*2 = 10 \t\t5*3 = 15 \t\t5*4 = 20 \t\t5*5 = 25 \t\t5*6 = 30 \t\t5*7 = 35 \t\t5*8 = 40 \t\t5*9 = 45 \t\t5*10 = 50 \t\t\n",
            "6*1 = 6 \t\t6*2 = 12 \t\t6*3 = 18 \t\t6*4 = 24 \t\t6*5 = 30 \t\t6*6 = 36 \t\t6*7 = 42 \t\t6*8 = 48 \t\t6*9 = 54 \t\t6*10 = 60 \t\t\n",
            "7*1 = 7 \t\t7*2 = 14 \t\t7*3 = 21 \t\t7*4 = 28 \t\t7*5 = 35 \t\t7*6 = 42 \t\t7*7 = 49 \t\t7*8 = 56 \t\t7*9 = 63 \t\t7*10 = 70 \t\t\n",
            "8*1 = 8 \t\t8*2 = 16 \t\t8*3 = 24 \t\t8*4 = 32 \t\t8*5 = 40 \t\t8*6 = 48 \t\t8*7 = 56 \t\t8*8 = 64 \t\t8*9 = 72 \t\t8*10 = 80 \t\t\n",
            "9*1 = 9 \t\t9*2 = 18 \t\t9*3 = 27 \t\t9*4 = 36 \t\t9*5 = 45 \t\t9*6 = 54 \t\t9*7 = 63 \t\t9*8 = 72 \t\t9*9 = 81 \t\t9*10 = 90 \t\t\n",
            "10*1 = 10 \t\t10*2 = 20 \t\t10*3 = 30 \t\t10*4 = 40 \t\t10*5 = 50 \t\t10*6 = 60 \t\t10*7 = 70 \t\t10*8 = 80 \t\t10*9 = 90 \t\t10*10 = 100 \t\t\n"
          ],
          "name": "stdout"
        }
      ]
    }
  ]
}