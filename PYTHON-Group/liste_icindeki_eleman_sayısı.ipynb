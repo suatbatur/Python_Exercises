{
  "nbformat": 4,
  "nbformat_minor": 0,
  "metadata": {
    "colab": {
      "name": "liste_icindeki_eleman_sayısı.ipynb",
      "provenance": []
    },
    "kernelspec": {
      "name": "python3",
      "display_name": "Python 3"
    },
    "language_info": {
      "name": "python"
    }
  },
  "cells": [
    {
      "cell_type": "code",
      "metadata": {
        "colab": {
          "base_uri": "https://localhost:8080/"
        },
        "id": "amn73ZIflzjs",
        "outputId": "1ae98390-6540-4118-c3af-ff92c8c3dd9f"
      },
      "source": [
        "\"\"\"bir problem elinde bir dizi var dinamik uzunluğu bilinmiyor\n",
        "içinde sayı dan olusmus elemanlar var bu dizi içinde çift sayıda olmayan\n",
        "elemanları (tek sayıda olanları) listeleyen algoritme yaz?\n",
        "örnek: 2,3,4,12,11,2,3,5,12,2\n",
        "output:2,4,11\n",
        "\"\"\"\n",
        "\n",
        "numbers_list = [2,3,4,12,11,2,3,5,12,2]\n",
        "odd_values = []\n",
        "for i in range(len(numbers_list)):\n",
        "  if numbers_list.count(numbers_list[i]) % 2 !=0:\n",
        "    odd_values.append(numbers_list[i])\n",
        "print(set(odd_values)) "
      ],
      "execution_count": 13,
      "outputs": [
        {
          "output_type": "stream",
          "text": [
            "{2, 11, 4, 5}\n"
          ],
          "name": "stdout"
        }
      ]
    }
  ]
}