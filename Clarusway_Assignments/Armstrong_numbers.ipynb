{
  "nbformat": 4,
  "nbformat_minor": 0,
  "metadata": {
    "colab": {
      "name": "armstrong_numbers.ipynb",
      "provenance": [],
      "collapsed_sections": []
    },
    "kernelspec": {
      "name": "python3",
      "display_name": "Python 3"
    },
    "language_info": {
      "name": "python"
    }
  },
  "cells": [
    {
      "cell_type": "code",
      "metadata": {
        "id": "CCGSsas0VKEu"
      },
      "source": [
        "#ARMSTRONG numbers\n",
        "number = input(\"enter a number\")\n",
        "toplam=0\n",
        "\n",
        "\n",
        "for i in number:\n",
        "  toplam += (int(i)**len(number))\n",
        "if toplam==int(number):\n",
        "  print(\"This is a ARMSTRONG number\")\n",
        "else:\n",
        "  print(\"This is NOT\")\n"
      ],
      "execution_count": null,
      "outputs": []
    },
    {
      "cell_type": "code",
      "metadata": {
        "id": "kTpzL-3qWv6j"
      },
      "source": [
        "print(\"Welcome to learn is our number Armstrong or NOT\")\n",
        "while True:\n",
        "  toplam =0\n",
        "  number = input(\"enter a number: \")\n",
        "  if number.isdigit():\n",
        "    for i in number:\n",
        "      toplam+= (int(i)**len(number))\n",
        "    if toplam==int(number):\n",
        "      print(\"{} is an ARMSTRONG number\".format(number))\n",
        "      break\n",
        "    else:\n",
        "      print(\"{} is NOT an Armstrong number\".format(number))\n",
        "  else:\n",
        "    print(\"It is an invalid entry. Don't use non-numeric, float, or negative values!\")\n",
        "    \n",
        "  \n",
        "    "
      ],
      "execution_count": null,
      "outputs": []
    }
  ]
}