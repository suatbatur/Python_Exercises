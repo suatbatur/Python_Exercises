{
  "nbformat": 4,
  "nbformat_minor": 0,
  "metadata": {
    "colab": {
      "name": "Prime_numbers_0_100.ipynb",
      "provenance": []
    },
    "kernelspec": {
      "name": "python3",
      "display_name": "Python 3"
    },
    "language_info": {
      "name": "python"
    }
  },
  "cells": [
    {
      "cell_type": "code",
      "metadata": {
        "id": "ON2zp1QUpK9h"
      },
      "source": [
        "prime_numbers=[]\n",
        "for sayi in range(1,101):  \n",
        "   if sayi > 1:  \n",
        "       for i in range(2,sayi):  \n",
        "           if (sayi % i) == 0:  \n",
        "               break  \n",
        "       else:  \n",
        "           prime_numbers.append(sayi)\n",
        "print(prime_numbers) "
      ],
      "execution_count": null,
      "outputs": []
    }
  ]
}