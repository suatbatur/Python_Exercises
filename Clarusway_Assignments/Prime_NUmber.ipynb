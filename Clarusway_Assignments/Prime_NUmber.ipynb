{
  "nbformat": 4,
  "nbformat_minor": 0,
  "metadata": {
    "colab": {
      "name": "Prime_NUmber.ipynb",
      "provenance": []
    },
    "kernelspec": {
      "name": "python3",
      "display_name": "Python 3"
    },
    "language_info": {
      "name": "python"
    }
  },
  "cells": [
    {
      "cell_type": "code",
      "metadata": {
        "id": "q65Vc49ObW3F"
      },
      "source": [
        "#prime number\n",
        "\n",
        "number = int(input(\"enter a number : \"))\n",
        "counter= 0\n",
        "for i in range(1,number+1):\n",
        "  if number % i==0:\n",
        "      counter+=1\n",
        "if counter >2:\n",
        "  print(\"{} is not a prime number.\".format(number))\n",
        "else:\n",
        "  print(\"{} is a prime number.\".format(number))"
      ],
      "execution_count": null,
      "outputs": []
    }
  ]
}