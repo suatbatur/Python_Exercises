{
  "nbformat": 4,
  "nbformat_minor": 0,
  "metadata": {
    "colab": {
      "name": "Covid_19_risk.ipynb",
      "provenance": [],
      "collapsed_sections": []
    },
    "kernelspec": {
      "name": "python3",
      "display_name": "Python 3"
    },
    "language_info": {
      "name": "python"
    }
  },
  "cells": [
    {
      "cell_type": "code",
      "metadata": {
        "id": "Ff5MU1nAgWjK"
      },
      "source": [
        "def true_false(a):\n",
        "  if a ==\"yes\":\n",
        "    a= True\n",
        "  else:\n",
        "    a= False\n",
        "  return a\n",
        "print(\"Please give your answer only with : yes/no\")\n",
        "age = true_false(input(\"Are you a cigarette addict older than 75 years old? : \").lower())\n",
        "chronic = true_false(input(\"Do you have a severe chronic disease? : \").lower())\n",
        "imnue = true_false(input(\"Is your immune system too weak? : \").lower())\n",
        "\n",
        "if age or chronic or imnue == True:\n",
        "  print(\"You are in risky group\")\n",
        "else:\n",
        "  print(\"You are not in risky group\")\n",
        "\n",
        "\n",
        "\n"
      ],
      "execution_count": null,
      "outputs": []
    }
  ]
}