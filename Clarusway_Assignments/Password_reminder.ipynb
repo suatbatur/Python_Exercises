{
  "nbformat": 4,
  "nbformat_minor": 0,
  "metadata": {
    "colab": {
      "name": "Clarusway_Python-Assigment_password_reminder.ipynb",
      "provenance": []
    },
    "kernelspec": {
      "name": "python3",
      "display_name": "Python 3"
    },
    "language_info": {
      "name": "python"
    }
  },
  "cells": [
    {
      "cell_type": "code",
      "metadata": {
        "colab": {
          "base_uri": "https://localhost:8080/"
        },
        "id": "wi0IWYF1S273",
        "outputId": "093e6948-90f9-42fc-f9db-64076e499bb5"
      },
      "source": [
        "customer = {\"joseph\":\"W@12\"}\n",
        "entered_name = input(\"enter your name : \").lower()\n",
        "\n",
        "if entered_name in customer.keys():\n",
        "  print(\"Hello, Joseph! The password is : {}\".format(password))\n",
        "else:\n",
        "  print(\"Hello, Amina! See you later.\")"
      ],
      "execution_count": 10,
      "outputs": [
        {
          "output_type": "stream",
          "text": [
            "enter your namesuat\n",
            "Hello, Amina! See you later.\n"
          ],
          "name": "stdout"
        }
      ]
    }
  ]
}